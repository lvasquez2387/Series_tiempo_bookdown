{
 "cells": [
  {
   "cell_type": "code",
   "execution_count": null,
   "id": "b02e031f-4701-4c07-a499-e0764e83eb44",
   "metadata": {},
   "outputs": [],
   "source": [
    "import copernicusmarine"
   ]
  },
  {
   "cell_type": "code",
   "execution_count": null,
   "id": "8df50e0b-4fe7-437f-832e-acb132b5de12",
   "metadata": {},
   "outputs": [],
   "source": [
    "?copernicusmarine.get"
   ]
  },
  {
   "cell_type": "code",
   "execution_count": null,
   "id": "1b35a66e-e64c-45ec-8ab4-b883f8057cc2",
   "metadata": {},
   "outputs": [],
   "source": []
  }
 ],
 "metadata": {
  "kernelspec": {
   "display_name": "Python 3 (ipykernel)",
   "language": "python",
   "name": "python3"
  },
  "language_info": {
   "codemirror_mode": {
    "name": "ipython",
    "version": 3
   },
   "file_extension": ".py",
   "mimetype": "text/x-python",
   "name": "python",
   "nbconvert_exporter": "python",
   "pygments_lexer": "ipython3",
   "version": "3.11.7"
  }
 },
 "nbformat": 4,
 "nbformat_minor": 5
}
